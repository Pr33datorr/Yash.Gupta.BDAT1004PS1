{
 "cells": [
  {
   "cell_type": "markdown",
   "id": "bc8170dd",
   "metadata": {},
   "source": [
    "# Data Programming Problem Set # 1\n",
    "    \n",
    "## Submitted by: Yash Gupta ( 200569784 )"
   ]
  },
  {
   "cell_type": "markdown",
   "id": "fc5f1df5",
   "metadata": {},
   "source": [
    "# Problem Set 1- Introduction\n",
    "\n",
    "This problem set is based on lectures 1,2 and 3. For a complete list of topics please consult page 2 of the course syllabus. Please consult the “Instructions for Problem Set Submissions” document under course information before submitting your assignment.\n"
   ]
  },
  {
   "cell_type": "markdown",
   "id": "c7b39abf",
   "metadata": {},
   "source": [
    "## Question 1:\n",
    "###    What data type is each of the following (evaluate where necessary)?\n",
    "a) 5\n",
    "\n",
    "b) 5.0\n",
    "\n",
    "c) 5 > 1\n",
    "\n",
    "d) '5'\n",
    "\n",
    "e) 5 * 2\n",
    "\n",
    "f) '5' * 2\n",
    "\n",
    "g) '5' + '2'\n",
    "\n",
    "h) 5 / 2\n",
    "\n",
    "i) 5 % 2\n",
    "\n",
    "j) {5, 2, 1}\n",
    "\n",
    "k) 5 == 3\n",
    "\n",
    "l) Pi (the number)\n",
    "\n"
   ]
  },
  {
   "cell_type": "code",
   "execution_count": null,
   "id": "6c1a8934",
   "metadata": {
    "direction": "ltr"
   },
   "outputs": [],
   "source": [
    "# Answer:\n",
    "\n",
    "a) 5                      // Data Type - Integer \n",
    "\n",
    "b) 5.0                    // Data Type - Float \n",
    "\n",
    "c) 5 > 1 outputs True     // Data Type - Boolean\n",
    "\n",
    "d) '5'                    // Data Type-  Character\n",
    "\n",
    "e) 5 * 2 outputs 10       // Data Type - Integer\n",
    "\n",
    "f) '5' * 2 outputs '55'   // Data Type - String\n",
    "\n",
    "g) '5' + '2' outputs '52' // Data Type-  String\n",
    "\n",
    "h) 5 / 2 outputs 2.5      // Data Type-  Float\n",
    "\n",
    "i) 5 % 2 outputs 1        // Data Type-  Integer\n",
    "\n",
    "j) {5, 2, 1}              // Data Type-  Dictionary\n",
    "\n",
    "k) 5 == 3 outputs False   // Data Type-  Boolean \n",
    "\n",
    "l) Pi (the number)        // Data Type - Float "
   ]
  },
  {
   "cell_type": "markdown",
   "id": "13e5c6f6",
   "metadata": {},
   "source": [
    "## Question 2\n",
    "### Write (and evaluate) C# expressions that answer these questions:\n",
    "\n",
    "a. How many letters are there in 'Supercalifragilisticexpialidocious'?\n",
    "\n",
    "b. Does 'Supercalifragilisticexpialidocious' contain 'ice' as a substring?\n",
    "\n",
    "c. Which of the following words is the longest: Supercalifragilisticexpialidocious, Honorificabilitudinitatibus, or Bababadalgharaghtakamminarronnkonn?\n",
    "\n",
    "d. Which composer comes first in the dictionary: 'Berlioz', 'Borodin', 'Brian', 'Bartok', 'Bellini', 'Buxtehude', 'Bernstein'. Which one comes last?"
   ]
  },
  {
   "cell_type": "code",
   "execution_count": null,
   "id": "f23d5c22",
   "metadata": {},
   "outputs": [],
   "source": [
    "# Answer:\n",
    "\n",
    "## a)\n",
    "string str1 = \"Supercalifragilisticexpialidocious\";\n",
    "int count = str1.Length;\n",
    "Console.WriteLine($\"Total letters in  '{str1}' = {count}\");\n",
    "\n",
    "# output = \" Total letters in 'Supercalifragilisticexpialidocious' = 34 \"\n",
    "\n",
    "## b)\n",
    "if (str1.Contains(\"ice\"))\n",
    "{\n",
    "    Console.WriteLine($\"'{str1}' contains 'ice' as a substring\");\n",
    "}\n",
    "else\n",
    "{\n",
    "    Console.WriteLine($\"'{str1}' does not contain 'ice' as a substring\");\n",
    "}\n",
    "\n",
    "# output = \" 'Supercalifragilisticexpialidocious' contains 'ice' as a substring \"\n",
    "\n",
    "## c)\n",
    "string longest = str1;\n",
    "string str2 = \"Honorificabilitudinitatibus\";\n",
    "string str3 = \"Bababadalgharaghtakamminarronnkonn\";\n",
    "\n",
    "if (str2.Length >= count) \n",
    "{\n",
    "    if(str2.Length > count)\n",
    "    {\n",
    "        longest = str2;\n",
    "        count = str2.Length;\n",
    "    }\n",
    "    else\n",
    "    { \n",
    "        longest += \" and \"+ str2 ; \n",
    "    }\n",
    "}\n",
    "\n",
    "if (str3.Length >= count)\n",
    "{\n",
    "    if (str3.Length > count)\n",
    "    {\n",
    "        longest = str3;\n",
    "        count = str3.Length;\n",
    "    }\n",
    "    else\n",
    "    {\n",
    "        longest += \" and \" + str3;\n",
    "    }\n",
    "}\n",
    "\n",
    "Console.WriteLine($\"The longest word(s) : {longest}\");\n",
    "\n",
    "# output = \" The longest word(s) : Supercalifragilisticexpialidocious and Bababadalgharaghtakamminarronnkonn \"\n",
    "\n",
    "## d)\n",
    "string[] composers = { \"Berlioz\", \"Borodin\", \"Brian\", \"Bartok\", \"Bellini\", \"Buxtehude\", \"Bernstein\" };\n",
    "Array.Sort(composers);\n",
    "Console.WriteLine($\"First and Last composers in the dictionary are {composers[0]} and {composers[composers.Length-1]} respectively\");\n",
    "\n",
    "# output = \" First and Last composers in the dictionary are Bartok and Buxtehude respectively \""
   ]
  },
  {
   "cell_type": "markdown",
   "id": "03eca531",
   "metadata": {},
   "source": [
    "## Question 3\n",
    "### Implement function triangleArea(a,b,c) that takes as input the lengths of the 3 sides of a triangle and returns the area of the triangle. By Heron's formula, the area of a triangle with side lengths a, b, and c is s(s - a)(s -b)(s -c) , where s = (a+b+c)/2."
   ]
  },
  {
   "cell_type": "code",
   "execution_count": null,
   "id": "50435c78",
   "metadata": {},
   "outputs": [],
   "source": [
    "# Answer:\n",
    "\n",
    "static double triangleArea(double a, double b, double c)\n",
    "{\n",
    "\n",
    "    double s = (a + b + c) / 2;\n",
    "    double area = Math.Sqrt(s * (s - a) * (s - b) * (s - c));\n",
    "\n",
    "    return area;\n",
    "}\n",
    "double a, b, c;\n",
    "\n",
    "Console.Write(\"Enter side a: \");\n",
    "a = double.Parse(Console.ReadLine());\n",
    "\n",
    "Console.Write(\"Enter side b: \");\n",
    "b = double.Parse(Console.ReadLine());\n",
    "\n",
    "Console.Write(\"Enter side c: \");\n",
    "c = double.Parse(Console.ReadLine());\n",
    "\n",
    "Console.WriteLine($\"Area of the triangle is {triangleArea(a,b,c)}\");\n"
   ]
  },
  {
   "cell_type": "markdown",
   "id": "754e1a25",
   "metadata": {},
   "source": [
    "## Question 4\n",
    "### Write a program in C# to separate odd and even integers in separate arrays. \n",
    "\n",
    "Test Data :\n",
    "\n",
    "Input the number of elements to be stored in the array :5\n",
    "\n",
    "Input 5 elements in the array :\n",
    "\n",
    "    element - 0 : 25\n",
    "    element - 1 : 47\n",
    "    element - 2 : 42\n",
    "    element - 3 : 56\n",
    "    element - 4 : 32\n",
    "    Expected Output:\n",
    "    The Even elements are: 42 56 32\n",
    "    The Odd elements are : 25 47"
   ]
  },
  {
   "cell_type": "code",
   "execution_count": null,
   "id": "f5b9c00b",
   "metadata": {},
   "outputs": [],
   "source": [
    "# Answer:\n",
    "\n",
    "Console.Write(\"Input the number of elements to be stored in the array: \");\n",
    "int n = int.Parse(Console.ReadLine());\n",
    "\n",
    "List<int> inputList = new List<int>();\n",
    "List<int> evenList = new List<int>();\n",
    "List<int> oddList = new List<int>();\n",
    "\n",
    "Console.WriteLine($\"Input {n} elements in the array:\");\n",
    "for (int i = 0; i < n; i++)\n",
    "{\n",
    "    Console.Write($\"element - {i} : \");\n",
    "    inputList.Add(int.Parse(Console.ReadLine()));\n",
    "}\n",
    "\n",
    "foreach (int num in inputList)\n",
    "{\n",
    "    if (num % 2 == 0)\n",
    "        evenList.Add(num);\n",
    "    else\n",
    "        oddList.Add(num);\n",
    "}\n",
    "\n",
    "Console.Write(\"The Even elements are: \");\n",
    "foreach (int evnum in evenList)\n",
    "{\n",
    "    Console.Write($\"{evnum} \");\n",
    "}\n",
    "Console.WriteLine();\n",
    "Console.Write(\"The Odd elements are: \");\n",
    "foreach (int onum in oddList)\n",
    "{\n",
    "    Console.Write($\"{onum} \");\n",
    "}\n",
    "\n",
    "#output =\n",
    "\n",
    "The Even elements are: 42 56 32\n",
    "The Odd elements are: 25 47"
   ]
  },
  {
   "cell_type": "markdown",
   "id": "08a5e279",
   "metadata": {},
   "source": [
    "## Question 5\n",
    "### a. Write a function inside(x,y,x1,y1,x2,y2) that returns True or False depending on whether the point (x,y) lies in the rectangle with lower left corner (x1,y1) and upper right corner (x2,y2).\n",
    "\n",
    "#### >>>inside(1,1,0,0,2,3)\n",
    "    True\n",
    "\n",
    "#### >>> inside(-1,-1,0,0,2,3)\n",
    "    False\n",
    "\n",
    "### b. Use function inside() from part a. to write an expression that tests whether the point (1,1) lies in both of the following rectangles: one with lower left corner (0.3,0.5) and upper right corner (1.1, 0.7) and the other with lower left corner (0.5,0.2) and upper right corner (1.1,2)."
   ]
  },
  {
   "cell_type": "code",
   "execution_count": null,
   "id": "c873cc96",
   "metadata": {},
   "outputs": [],
   "source": [
    "# Answer:\n",
    "\n",
    "## a)\n",
    "static bool inside(double x, double y, double x1, double y1, double x2, double y2)\n",
    "{\n",
    "    return (x >= x1 && x <= x2) && (y >= y1 && y <= y2);\n",
    "}\n",
    "\n",
    "Console.WriteLine(inside(1, 1, 0, 0, 2, 3));\n",
    "Console.WriteLine(inside(-1, -1, 0, 0, 2, 3));\n",
    "\n",
    "# output =\n",
    " True\n",
    " False\n",
    "\n",
    "## b)\n",
    "Console.WriteLine($\"Given point in Rectangle with lower left corner (0.3, 0.5) and upper right corner (1.1, 0.7) = {inside(1, 1, 0.3, 0.5, 1.1, 0.7)}\");\n",
    "Console.WriteLine($\"Given point in Rectangle with lower left corner (0.5, 0.2) and upper right corner (1.1, 2) = {inside(1, 1, 0.5, 0.2, 1.1, 2)}\");\n",
    "\n",
    "# output = \n",
    "\n",
    "Given point in Rectangle with lower left corner (0.3, 0.5) and upper right corner (1.1, 0.7) = False\n",
    "Given point in Rectangle with lower left corner (0.5, 0.2) and upper right corner (1.1, 2) = True"
   ]
  },
  {
   "cell_type": "markdown",
   "id": "7ff7b085",
   "metadata": {},
   "source": [
    "## Question 6\n",
    "\n",
    "You can turn a word into pig-Latin using the following two rules (simplified):\n",
    "• If the word starts with a consonant, move that letter to the end and append \n",
    "'ay'. For example, 'happy' becomes 'appyhay' and 'pencil' becomes 'encilpay'.\n",
    "• If the word starts with a vowel, simply append 'way' to the end of the word. \n",
    "For example, 'enter' becomes 'enterway' and 'other' becomes 'otherway' . For \n",
    "our purposes, there are 5 vowels: a, e, i, o, u (so we count y as a consonant).\n",
    "### Write a function pig() that takes a word (i.e., a string) as input and returns its pig-Latin form. Your function should still work if the input word contains upper case characters. Your output should always be lower case however. \n",
    "#### >>> pig('happy')\n",
    "    'appyhay'\n",
    "#### >>> pig('Enter')\n",
    "    'enterway'"
   ]
  },
  {
   "cell_type": "code",
   "execution_count": 3,
   "id": "4245d1c1",
   "metadata": {},
   "outputs": [
    {
     "name": "stdout",
     "output_type": "stream",
     "text": [
      "appyhay\n",
      "Enterway\n"
     ]
    }
   ],
   "source": [
    "# Answer:\n",
    "\n",
    "def pig(str): #Function Declaration\n",
    "    vowels = ['a','e','i','o','u']\n",
    "    if(str[0].lower() in vowels): #checking if first letter is Vowel or not\n",
    "        str += 'way'\n",
    "    else:\n",
    "        str = str[1:] + str[0] + 'ay'\n",
    "    return str\n",
    "   \n",
    "print(pig('happy'))\n",
    "print(pig('Enter')) "
   ]
  },
  {
   "cell_type": "markdown",
   "id": "51e8b625",
   "metadata": {},
   "source": [
    "## Question 7\n",
    "\n",
    "### File bloodtype1.txt records blood-types of patients (A, B, AB, O or OO) at a clinic. \n",
    "### Write a function bldcount() that reads the file with name name and reports (i.e., prints) how many patients there are in each bloodtype.\n",
    "#### >>> bldcount('bloodtype.txt')\n",
    "    There are 10 patients of blood type A.\n",
    "    There is one patient of blood type B.\n",
    "    There are 10 patients of blood type AB.\n",
    "    There are 12 patients of blood type O.\n",
    "    There are no patients of blood type OO"
   ]
  },
  {
   "cell_type": "code",
   "execution_count": 6,
   "id": "57a1a7ea",
   "metadata": {},
   "outputs": [
    {
     "name": "stdout",
     "output_type": "stream",
     "text": [
      "There are 15 patients of blood type A\n",
      "There is one patient of blood type B\n",
      "There are 13 patients of blood type AB\n",
      "There are 15 patients of blood type O\n",
      "There are no patients of blood type OO\n"
     ]
    }
   ],
   "source": [
    "# Answer:\n",
    "\n",
    "def bldcount(file): # Function Declaration\n",
    "    try: # Exception Handling\n",
    "        bloodTypes = ['A','B','AB','O','OO']\n",
    "        with open(file, 'r') as f: #opening file in read mode\n",
    "            bloodTypesList=f.read().split()\n",
    "        for i in bloodTypes:\n",
    "            if(bloodTypesList.count(i) == 0):\n",
    "                print(f'There are no patients of blood type {i}')\n",
    "            elif(bloodTypesList.count(i) == 1):\n",
    "                print(f'There is one patient of blood type {i}')\n",
    "            else:\n",
    "                print(f'There are {bloodTypesList.count(i)} patients of blood type {i}')\n",
    "    except:\n",
    "        print(\"File not Found\")\n",
    "bldcount(\"bloodtype1.txt\") #Sending filename to function bldcount"
   ]
  },
  {
   "cell_type": "markdown",
   "id": "1649888e",
   "metadata": {},
   "source": [
    "## Question 8\n",
    "### Write a function curconv() that takes as input:\n",
    "#### 1. a currency represented using a string (e.g., 'JPY' for the Japanese Yen or \n",
    "    'EUR' for the Euro)\n",
    "#### 2. an amount\n",
    "### and then converts and returns the amount in US dollars.\n",
    "#### >>> curconv('EUR', 100)\n",
    "    122.96544\n",
    "#### >>> curconv('JPY', 100)\n",
    "    1.241401\n",
    "    \n",
    "    The currency rates you will need are stored in file currencies.txt:\n",
    "    AUD 1.0345157 Australian Dollar\n",
    "    CHF 1.0237414 Swiss Franc\n",
    "    CNY 0.1550176 Chinese Yua\n",
    "    DKK 0.1651442 Danish Krone\n",
    "    EUR 1.2296544 Euro\n",
    "    GBP 1.5550989 British Pound\n",
    "    HKD 0.1270207 Hong Kong Dollar\n",
    "    INR 0.0177643 Indian Rupee\n",
    "    JPY 0.01241401 Japanese Yen\n",
    "    MXN 0.0751848 Mexican Peso\n",
    "    MYR 0.3145411 Malaysian Ringgit\n",
    "    NOK 0.1677063 Norwegian Krone\n",
    "    NZD 0.8003591 New Zealand Dollar\n",
    "    PHP 0.0233234 Philippine Peso\n",
    "    SEK 0.148269 Swedish Krona\n",
    "    SGD 0.788871 Singapore Dollar\n",
    "    THB 0.0313789 Thai Baht\n"
   ]
  },
  {
   "cell_type": "code",
   "execution_count": 8,
   "id": "606f7efb",
   "metadata": {},
   "outputs": [
    {
     "name": "stdout",
     "output_type": "stream",
     "text": [
      "Enter Currency and Amount to be converted to USD :\n",
      "\n",
      "AUD Australian Dollar\n",
      "CHF Swiss Franc\n",
      "CNY Chinese Yuan\n",
      "DKK Danish Krone\n",
      "EUR Euro\n",
      "GBP British Pound\n",
      "HKD Hong Kong Dollar\n",
      "INR Indian Rupee\n",
      "JPY Japanese Yen\n",
      "MXN Mexican Peso\n",
      "MYR Malaysian Ringgit\n",
      "NOK Norwegian Krone\n",
      "NZD New Zealand Dollar\n",
      "PHP Philippine Peso\n",
      "SEK Swedish Krona\n",
      "SGD Singapore Dollar\n",
      "THB Thai Baht\n",
      "EUR 100\n",
      "EUR in USD is  122.96544\n"
     ]
    }
   ],
   "source": [
    "# Answer:\n",
    "try: #Exception Handling\n",
    "    file='currencies.txt'\n",
    "    with open(file , 'r') as f:\n",
    "        currList=f.read().split('\\n')\n",
    "    currDict={}\n",
    "    for i in currList:\n",
    "        tempList=i.split('\\t')\n",
    "        currDict[tempList[0]]=[float(tempList[1]),tempList[2]]\n",
    "except:\n",
    "    print(\"File not Found\")\n",
    "    \n",
    "def curconv(curr,amt):\n",
    "    print(f'{curr} in USD is ',amt*currDict[curr][0])\n",
    "\n",
    "print(\"Enter Currency and Amount to be converted to USD :\\n\")\n",
    "for i,j in currDict.items():\n",
    "    print(i,j[1])\n",
    "    \n",
    "value = input().split(' ')\n",
    "curconv(value[0], int(value[1]))"
   ]
  },
  {
   "cell_type": "markdown",
   "id": "7c57d6b1",
   "metadata": {},
   "source": [
    "## Question 9\n",
    "\n",
    "### Each of the following will cause an exception (an error). Identify what type of exception each will cause.\n",
    "\n",
    "#### a) Trying to add incompatible variables, as in adding 6 + ‘a’\n",
    "\n",
    "#### b) Referring to the 12th item of a list that has only 10 items\n",
    "\n",
    "#### c) Using a value that is out of range for a function’s input, such as calling math.sqrt(-1.0)\n",
    "\n",
    "#### d) Using an undeclared variable, such as print(x) when x has not been defined\n",
    "\n",
    "#### e) Trying to open a file that does not exist, such as mistyping the file name or looking in the wrong directory"
   ]
  },
  {
   "cell_type": "code",
   "execution_count": 11,
   "id": "dae762ea",
   "metadata": {},
   "outputs": [
    {
     "name": "stdout",
     "output_type": "stream",
     "text": [
      "TypeError\n"
     ]
    }
   ],
   "source": [
    "# Answer:\n",
    "\n",
    "# a) TypeError\n",
    "try:\n",
    "    print(6+'a')\n",
    "except Exception as e:\n",
    "    print(type(e).__name__)"
   ]
  },
  {
   "cell_type": "code",
   "execution_count": 12,
   "id": "df4a2bd8",
   "metadata": {},
   "outputs": [
    {
     "name": "stdout",
     "output_type": "stream",
     "text": [
      "IndexError\n"
     ]
    }
   ],
   "source": [
    "# b) IndexError\n",
    "numList=[0,1,2,3,4,5,6,7,8,9]\n",
    "try:\n",
    "    print(numList[12])\n",
    "except Exception as e:\n",
    "    print(type(e).__name__)"
   ]
  },
  {
   "cell_type": "code",
   "execution_count": 13,
   "id": "00b1882a",
   "metadata": {},
   "outputs": [
    {
     "name": "stdout",
     "output_type": "stream",
     "text": [
      "ValueError\n"
     ]
    }
   ],
   "source": [
    "# c) ValueError\n",
    "import math\n",
    "try:\n",
    "    print(math.sqrt(-1.0))\n",
    "except Exception as e:\n",
    "    print(type(e).__name__)"
   ]
  },
  {
   "cell_type": "code",
   "execution_count": 14,
   "id": "ed37d0bb",
   "metadata": {},
   "outputs": [
    {
     "name": "stdout",
     "output_type": "stream",
     "text": [
      "NameError\n"
     ]
    }
   ],
   "source": [
    "# d) NameError\n",
    "try:\n",
    "    print(x)\n",
    "except Exception as e:\n",
    "    print(type(e).__name__)"
   ]
  },
  {
   "cell_type": "code",
   "execution_count": 15,
   "id": "6ae1b947",
   "metadata": {},
   "outputs": [
    {
     "name": "stdout",
     "output_type": "stream",
     "text": [
      "FileNotFoundError\n"
     ]
    }
   ],
   "source": [
    "# e) FileNotFoundError\n",
    "try:\n",
    "    open(\"example.txt\")\n",
    "except Exception as e:\n",
    "    print(type(e).__name__)"
   ]
  },
  {
   "cell_type": "markdown",
   "id": "7c57a97c",
   "metadata": {},
   "source": [
    "## Question 10\n",
    "\n",
    "### Encryption is the process of hiding the meaning of a text by substituting letters in the message with other letters, according to some system. If the process is successful, no one but the intended recipient can understand the encrypted message. Cryptanalysis refers to attempts to undo the encryption, even if some details of the encryption are unknown (for example, if an encrypted message has been intercepted). The first step of cryptanalysis is often to build up a table of letter frequencies in the encrypted text. Assume that the string letters is already defined as 'abcdefghijklmnopqrstuvwxyz'. Write a function called frequencies() that takes a string as its only parameter, and returns a list of integers, showing the number of times each character appears in the text. Your function may ignore any characters that are not in letters. \n",
    "#### >>> frequencies('The quick red fox got bored and went home.')\n",
    "    [1, 1, 1, 3, 5, 1, 1, 2, 1, 0, 1, 0, 1, 2, 4, 0, 1, 2, 0, 2, 1, 0, 1, 1, 0, 0]\n",
    "#### >>> frequencies('apple')"
   ]
  },
  {
   "cell_type": "code",
   "execution_count": 17,
   "id": "78bd6d9c",
   "metadata": {},
   "outputs": [
    {
     "name": "stdout",
     "output_type": "stream",
     "text": [
      "[1, 1, 1, 3, 5, 1, 1, 2, 1, 0, 1, 0, 1, 2, 4, 0, 1, 2, 0, 2, 1, 0, 1, 1, 0, 0]\n",
      "[1, 0, 0, 0, 1, 0, 0, 0, 0, 0, 0, 1, 0, 0, 0, 2, 0, 0, 0, 0, 0, 0, 0, 0, 0, 0]\n"
     ]
    }
   ],
   "source": [
    "# Answer:\n",
    "charList=[]\n",
    "for i in range(97,123):\n",
    "    charList.append(chr(i))\n",
    "\n",
    "def frequencies(str):\n",
    "    intList=[]\n",
    "    for i in charList:\n",
    "        intList.append(str.count(i))\n",
    "    print(intList)\n",
    "\n",
    "frequencies(\"The quick red fox got bored and went home.\")\n",
    "frequencies(\"apple\")"
   ]
  }
 ],
 "metadata": {
  "direction": "ltr",
  "kernelspec": {
   "display_name": "Python 3 (ipykernel)",
   "language": "python",
   "name": "python3"
  },
  "language_info": {
   "codemirror_mode": {
    "name": "ipython",
    "version": 3
   },
   "file_extension": ".py",
   "mimetype": "text/x-python",
   "name": "python",
   "nbconvert_exporter": "python",
   "pygments_lexer": "ipython3",
   "version": "3.11.4"
  }
 },
 "nbformat": 4,
 "nbformat_minor": 5
}
